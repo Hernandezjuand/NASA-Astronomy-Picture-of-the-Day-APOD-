{
  "nbformat": 4,
  "nbformat_minor": 0,
  "metadata": {
    "colab": {
      "provenance": []
    },
    "kernelspec": {
      "name": "python3",
      "display_name": "Python 3"
    },
    "language_info": {
      "name": "python"
    }
  },
  "cells": [
    {
      "cell_type": "markdown",
      "source": [
        "# **NASA Astronomy Picture of the Day (APOD) Explorer**\n",
        "\n",
        "## 📝 Project Overview\n",
        "Author: Juan Diego Hernandez\n",
        "Date: March 2025\n",
        "Purpose: Create an automated script to fetch and display NASA's Astronomy Picture of the Day.\n",
        "\n",
        "\n",
        "## 🚀 Project Background\n",
        "This project demonstrates web scraping techniques to retrieve and display astronomical imagery and information from NASA's APOD website.\n",
        "\n",
        "## 🛠 Technologies Used\n",
        "- Python\n",
        "- Requests Library\n",
        "- BeautifulSoup\n",
        "- Datetime\n",
        "- IPython Display"
      ],
      "metadata": {
        "id": "bopo0u6Qu666"
      }
    },
    {
      "cell_type": "markdown",
      "source": [
        "## 📋 Project Structure\n",
        "1. Import Required Libraries"
      ],
      "metadata": {
        "id": "eql2Y4srvQI0"
      }
    },
    {
      "cell_type": "code",
      "execution_count": null,
      "metadata": {
        "id": "mRZ3zpGpuVah"
      },
      "outputs": [],
      "source": [
        "!pip install requests beautifulsoup4"
      ]
    },
    {
      "cell_type": "code",
      "source": [
        "import requests\n",
        "from bs4 import BeautifulSoup\n",
        "from datetime import datetime\n",
        "from IPython.display import display, Image, HTML"
      ],
      "metadata": {
        "id": "NW92VYfSvNCi"
      },
      "execution_count": 7,
      "outputs": []
    },
    {
      "cell_type": "markdown",
      "source": [
        "2. Function Definition: fetch_apod_info()"
      ],
      "metadata": {
        "id": "ZffiaRVTvrqk"
      }
    },
    {
      "cell_type": "code",
      "source": [
        "def fetch_apod_info(date_str):\n",
        "    try:\n",
        "        # Date validation and formatting\n",
        "        date = datetime.strptime(date_str, \"%Y-%m-%d\")\n",
        "        formatted_date = date.strftime(\"%y%m%d\")\n",
        "        apod_url = f\"https://apod.nasa.gov/apod/ap{formatted_date}.html\"\n",
        "\n",
        "        # Fetch HTML content\n",
        "        response = requests.get(apod_url)\n",
        "        response.raise_for_status()\n",
        "        soup = BeautifulSoup(response.text, \"html.parser\")\n",
        "\n",
        "        # Extract title\n",
        "        title_tag = soup.find(\"b\")\n",
        "        title = title_tag.text.strip() if title_tag else \"No title found\"\n",
        "\n",
        "        # Display title and link\n",
        "        print(f\"📅 {date_str}\")\n",
        "        print(f\"📷 Title: {title}\")\n",
        "        print(f\"🔗 Link: {apod_url}\\n\")\n",
        "\n",
        "        # Find and display image or video\n",
        "        img_tag = soup.find(\"img\")\n",
        "        if img_tag:\n",
        "            img_url = \"https://apod.nasa.gov/apod/\" + img_tag['src']\n",
        "            display(Image(url=img_url))\n",
        "        else:\n",
        "            iframe = soup.find(\"iframe\")\n",
        "            if iframe and 'src' in iframe.attrs:\n",
        "                video_url = iframe['src']\n",
        "                if not video_url.startswith(\"http\"):\n",
        "                    video_url = \"https://apod.nasa.gov/apod/\" + video_url\n",
        "                display(HTML(f'<iframe width=\"560\" height=\"315\" src=\"{video_url}\" frameborder=\"0\" allowfullscreen></iframe>'))\n",
        "            else:\n",
        "                print(\"⚠️ No image or video found for this date.\")\n",
        "\n",
        "    except Exception as e:\n",
        "        print(f\"❌ Error: {e}\")\n"
      ],
      "metadata": {
        "id": "Ymi5AovKuYjW"
      },
      "execution_count": 8,
      "outputs": []
    },
    {
      "cell_type": "markdown",
      "source": [
        "🔍 Key Components Analysis\n",
        "Date Formatting\n",
        "\n",
        "Converts input date to NASA APOD URL format\n",
        "Uses strftime() to create a compact date representation\n",
        "\n",
        "Web Scraping Techniques\n",
        "\n",
        "Uses requests to fetch web content\n",
        "Employs BeautifulSoup for HTML parsing\n",
        "Handles both image and video content dynamically\n",
        "\n",
        "Error Handling\n",
        "\n",
        "Implements comprehensive try-except block\n",
        "Provides informative error messages\n",
        "Gracefully handles missing content\n",
        "\n",
        "💡 Example Usage"
      ],
      "metadata": {
        "id": "Ub7gBVp1vzaw"
      }
    },
    {
      "cell_type": "code",
      "source": [
        "# Fetch APOD for a specific date\n",
        "fetch_apod_info(\"2024-02-21\")"
      ],
      "metadata": {
        "colab": {
          "base_uri": "https://localhost:8080/",
          "height": 1000
        },
        "id": "XwZ2suHQv4ns",
        "outputId": "b9e3f587-02ed-47dc-85eb-d6005c500c76"
      },
      "execution_count": 9,
      "outputs": [
        {
          "output_type": "stream",
          "name": "stdout",
          "text": [
            "📅 2024-02-21\n",
            "📷 Title: Seagull Nebula over Pinnacles' Peak\n",
            "🔗 Link: https://apod.nasa.gov/apod/ap240221.html\n",
            "\n"
          ]
        },
        {
          "output_type": "display_data",
          "data": {
            "text/html": [
              "<img src=\"https://apod.nasa.gov/apod/image/2402/SeagullPinnacles_Venkatraman_960.jpg\"/>"
            ],
            "text/plain": [
              "<IPython.core.display.Image object>"
            ]
          },
          "metadata": {}
        }
      ]
    },
    {
      "cell_type": "markdown",
      "source": [
        "🔬 Potential Improvements\n",
        "\n",
        "Add caching mechanism\n",
        "Implement more robust error handling\n",
        "Create a date range exploration feature\n",
        "Add metadata extraction (explanation, copyright)\n",
        "\n",
        "📜 Copyright and License\n",
        "© 2024 Juan Diego Hernandez\n",
        "\n",
        "Personal project for educational purposes\n",
        "Demonstrates web scraping and data retrieval techniques\n",
        "Not for commercial use\n",
        "\n",
        "🌟 Learning Outcomes\n",
        "\n",
        "Web scraping fundamentals\n",
        "HTML parsing\n",
        "Python web interaction\n",
        "Error handling strategies\n",
        "Dynamic content retrieval\n",
        "\n",
        "🔗 References\n",
        "\n",
        "NASA APOD Website: https://apod.nasa.gov/\n",
        "Requests Library: https://docs.python-requests.org/\n",
        "BeautifulSoup Documentation: https://www.crummy.com/software/BeautifulSoup/\n",
        "\n",
        "📊 Performance Metrics\n",
        "\n",
        "Average Execution Time: ~0.5-1.5 seconds\n",
        "Success Rate: ~95% (dependent on NASA website structure"
      ],
      "metadata": {
        "id": "ulGIknB3wGaA"
      }
    }
  ]
}